{
 "cells": [
  {
   "cell_type": "markdown",
   "metadata": {},
   "source": [
    "#### Lesson 2. Write Custom Functions\n",
    "Jenny Palomino, Leah Wasser, Software Carpentry\n",
    "\n",
    "In This Lesson\n",
    "\n",
    "    Learning Objectives\n",
    "    Write a Function in Python\n",
    "    Call a Function in Python\n",
    "    Optional Challenge\n",
    "\n",
    "In this lesson, you will learn how to write custom functions in Python.\n",
    "Learning Objectives\n",
    "\n",
    "After completing this lesson, you will be able to:\n",
    "\n",
    "    Explain the structure of a function in Python\n",
    "    Define an input parameter to a function\n",
    "    Write custom functions in Python\n",
    "\n",
    "#### Write a Function in Python"
   ]
  },
  {
   "cell_type": "code",
   "execution_count": 1,
   "metadata": {},
   "outputs": [],
   "source": [
    "# this is an example function that adds the value of five to any input parameter\n",
    "# x is the placeholder for the input parameter and will be assigned when the function is called\n",
    "\n",
    "def add_five(x):\n",
    "    \n",
    "    # add the value of 5 to an input parameter\n",
    "    # function can take a single value, single value variable, or numpy array as input\n",
    "    # function can not take list or pandas dataframe as input\n",
    "    \n",
    "    return (x + 5)"
   ]
  },
  {
   "cell_type": "markdown",
   "metadata": {},
   "source": [
    "Optional Challenge\n",
    "\n",
    "Test your Python skills to:\n",
    "\n",
    "1. Write a function to convert an input parameter value from inches to millimeters. Recall that one inch is equal to 25.4 millimeters.\n",
    "\n",
    "See the example function add_five() that adds the value of 5 to the input parameter.\n",
    "\n",
    "Begin with the def keyword and a clear function name that tells the user what the function does.\n",
    "\n",
    "Use a placeholder name for the input parameter that is also clear and tells the user what the function is expecting.\n",
    "\n",
    "Because your code is simple, your return statement can contain the code that calculates the output within parenthesis (), just like add_five().\n",
    "\n",
    "Be sure to add documentation about the input and output parameters of the function.\n",
    "\n",
    "2. Run your function on the value 1.8 (i.e. your input parameter)."
   ]
  },
  {
   "cell_type": "code",
   "execution_count": 3,
   "metadata": {},
   "outputs": [],
   "source": [
    "# this is a function that coverts an input parameter from inches\n",
    "# to milimeters. One inch is equal to 25.4\n",
    "\n",
    "def in_to_mm(x):\n",
    "    \n",
    "    # convert an input parameter in inches to mm\n",
    "    # function can take a single value, single value variable, or numpy array as input\n",
    "    # function can not take list or pandas dataframe as input\n",
    "    \n",
    "    return ( x * 25.4)"
   ]
  },
  {
   "cell_type": "code",
   "execution_count": 7,
   "metadata": {},
   "outputs": [
    {
     "data": {
      "text/plain": [
       "45.72"
      ]
     },
     "execution_count": 7,
     "metadata": {},
     "output_type": "execute_result"
    }
   ],
   "source": [
    "# example of in_to_mm function using a value of 1.8in\n",
    "in_to_mm(1.8)"
   ]
  },
  {
   "cell_type": "code",
   "execution_count": 11,
   "metadata": {},
   "outputs": [
    {
     "data": {
      "text/plain": [
       "array([45.72 , 17.272])"
      ]
     },
     "execution_count": 11,
     "metadata": {},
     "output_type": "execute_result"
    }
   ],
   "source": [
    "# example of in_to_mm function using create numpy array\n",
    "import numpy as np\n",
    "\n",
    "arrayname = np.array([1.8, 0.68])\n",
    "\n",
    "in_to_mm(arrayname)"
   ]
  }
 ],
 "metadata": {
  "kernelspec": {
   "display_name": "Python 3",
   "language": "python",
   "name": "python3"
  },
  "language_info": {
   "codemirror_mode": {
    "name": "ipython",
    "version": 3
   },
   "file_extension": ".py",
   "mimetype": "text/x-python",
   "name": "python",
   "nbconvert_exporter": "python",
   "pygments_lexer": "ipython3",
   "version": "3.7.0"
  }
 },
 "nbformat": 4,
 "nbformat_minor": 2
}
